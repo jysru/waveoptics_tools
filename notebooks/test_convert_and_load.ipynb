{
 "cells": [
  {
   "cell_type": "code",
   "execution_count": null,
   "metadata": {},
   "outputs": [],
   "source": [
    "%load_ext autoreload\n",
    "%autoreload 2\n",
    "\n",
    "import os\n",
    "import matplotlib.pyplot as plt\n",
    "\n",
    "from waveoptics.datasets.convert import matfile_to_hdf5\n",
    "from waveoptics.datasets.loaders import load_h5file"
   ]
  },
  {
   "cell_type": "code",
   "execution_count": null,
   "metadata": {},
   "outputs": [],
   "source": [
    "path = 'C:/Users/saucourt/Downloads'\n",
    "name = 'Data_2_camera_f_60mm_8by8_actuators_09_Jan_10_57.mat'\n",
    "\n",
    "converted_filepath = matfile_to_hdf5(\n",
    "    filepath=os.path.join(path, name),\n",
    "    avoid_keys=['SerialCam', 'SerialNumberCam'],\n",
    "    verbose=True,\n",
    "    return_path=True\n",
    "    )"
   ]
  },
  {
   "cell_type": "code",
   "execution_count": null,
   "metadata": {},
   "outputs": [],
   "source": [
    "dset = load_h5file(converted_filepath, keys=['FarFieldIntens', 'Map', 'NearFieldIntens'])\n",
    "print(dset.keys())"
   ]
  },
  {
   "cell_type": "code",
   "execution_count": null,
   "metadata": {},
   "outputs": [],
   "source": [
    "plt.imshow(dset['FarFieldIntens'][0, 0, ...])\n",
    "plt.colorbar()"
   ]
  }
 ],
 "metadata": {
  "kernelspec": {
   "display_name": "ml",
   "language": "python",
   "name": "python3"
  },
  "language_info": {
   "codemirror_mode": {
    "name": "ipython",
    "version": 3
   },
   "file_extension": ".py",
   "mimetype": "text/x-python",
   "name": "python",
   "nbconvert_exporter": "python",
   "pygments_lexer": "ipython3",
   "version": "3.9.13"
  }
 },
 "nbformat": 4,
 "nbformat_minor": 2
}
