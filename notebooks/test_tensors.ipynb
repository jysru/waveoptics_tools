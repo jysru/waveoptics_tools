{
 "cells": [
  {
   "cell_type": "code",
   "execution_count": 26,
   "metadata": {},
   "outputs": [
    {
     "name": "stdout",
     "output_type": "stream",
     "text": [
      "The autoreload extension is already loaded. To reload it, use:\n",
      "  %reload_ext autoreload\n"
     ]
    }
   ],
   "source": [
    "%load_ext autoreload\n",
    "%autoreload 2\n",
    "\n",
    "import numpy as np\n",
    "import matplotlib.pyplot as plt\n",
    "\n",
    "import waveoptics.tensors.numpy as tensors"
   ]
  },
  {
   "cell_type": "code",
   "execution_count": 100,
   "metadata": {},
   "outputs": [
    {
     "name": "stdout",
     "output_type": "stream",
     "text": [
      "(10, 260, 260)\n",
      "(10, 0, 130)\n",
      "(10, 250, 251)\n",
      "(10, 21, 20)\n",
      "(10, 65, 65)\n"
     ]
    }
   ],
   "source": [
    "img = np.random.rand(10, 260, 260)\n",
    "print(img.shape)\n",
    "\n",
    "img_crop = tensors.crop_2d(img, (260, 130))\n",
    "print(img_crop.shape)\n",
    "\n",
    "# img_ext = tensors.extend_2d(img, (121,110))\n",
    "# print(img_ext.shape)\n",
    "\n",
    "img_re1 = tensors.resize_2d(img, (250, 251))\n",
    "print(img_re1.shape)\n",
    "\n",
    "img_re2 = tensors.resize_2d(img, (21, 20))\n",
    "print(img_re2.shape)\n",
    "\n",
    "img_pool = tensors.max_pooling_2d(img, kernel=(4, 4))\n",
    "print(img_pool.shape)\n",
    "\n",
    "# img_bin = tensors.autobin_2d_to(img, (260, 260))\n",
    "# # print(img_bin.shape)"
   ]
  }
 ],
 "metadata": {
  "kernelspec": {
   "display_name": "ml",
   "language": "python",
   "name": "python3"
  },
  "language_info": {
   "codemirror_mode": {
    "name": "ipython",
    "version": 3
   },
   "file_extension": ".py",
   "mimetype": "text/x-python",
   "name": "python",
   "nbconvert_exporter": "python",
   "pygments_lexer": "ipython3",
   "version": "3.9.13"
  }
 },
 "nbformat": 4,
 "nbformat_minor": 2
}
